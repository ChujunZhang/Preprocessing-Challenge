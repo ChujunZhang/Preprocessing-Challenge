{
 "cells": [
  {
   "cell_type": "markdown",
   "metadata": {},
   "source": [
    "# Parsing Dates"
   ]
  },
  {
   "cell_type": "code",
   "execution_count": 44,
   "metadata": {
    "collapsed": true
   },
   "outputs": [],
   "source": [
    "import pandas as pd\n",
    "import numpy as np\n",
    "import seaborn as sns\n",
    "import datetime\n",
    "import re"
   ]
  },
  {
   "cell_type": "code",
   "execution_count": 45,
   "metadata": {
    "collapsed": true
   },
   "outputs": [],
   "source": [
    "landslides=pd.read_csv('C:\\\\Users\\\\cxz16\\\\kaggle 5-day challenge\\\\day3data\\\\catalog.csv')\n",
    "earthquakes=pd.read_csv('C:\\\\Users\\\\cxz16\\\\kaggle 5-day challenge\\\\day3data\\\\earthquakes.csv')\n",
    "volcanic=pd.read_csv('C:\\\\Users\\\\cxz16\\\\kaggle 5-day challenge\\\\day3data\\\\volcanic.csv')\n",
    "\n",
    "np.random.seed(0)\n",
    "%matplotlib inline"
   ]
  },
  {
   "cell_type": "code",
   "execution_count": 46,
   "metadata": {},
   "outputs": [
    {
     "data": {
      "text/plain": [
       "id                        int64\n",
       "date                     object\n",
       "time                     object\n",
       "continent_code           object\n",
       "country_name             object\n",
       "country_code             object\n",
       "state/province           object\n",
       "population                int64\n",
       "city/town                object\n",
       "distance                float64\n",
       "location_description     object\n",
       "latitude                float64\n",
       "longitude               float64\n",
       "geolocation              object\n",
       "hazard_type              object\n",
       "landslide_type           object\n",
       "landslide_size           object\n",
       "trigger                  object\n",
       "storm_name               object\n",
       "injuries                float64\n",
       "fatalities              float64\n",
       "source_name              object\n",
       "source_link              object\n",
       "dtype: object"
      ]
     },
     "execution_count": 46,
     "metadata": {},
     "output_type": "execute_result"
    }
   ],
   "source": [
    "landslides.dtypes"
   ]
  },
  {
   "cell_type": "code",
   "execution_count": 47,
   "metadata": {},
   "outputs": [
    {
     "data": {
      "text/plain": [
       "0     3/2/07\n",
       "1    3/22/07\n",
       "2     4/6/07\n",
       "3    4/14/07\n",
       "4    4/15/07\n",
       "Name: date, dtype: object"
      ]
     },
     "execution_count": 47,
     "metadata": {},
     "output_type": "execute_result"
    }
   ],
   "source": [
    "landslides.date.head()"
   ]
  },
  {
   "cell_type": "code",
   "execution_count": 48,
   "metadata": {
    "collapsed": true
   },
   "outputs": [],
   "source": [
    "landslides['date_parsed']=pd.to_datetime(landslides['date'], \\\n",
    "                                       format=\"%m/%d/%y\")"
   ]
  },
  {
   "cell_type": "code",
   "execution_count": 49,
   "metadata": {},
   "outputs": [
    {
     "data": {
      "text/plain": [
       "0   2007-03-02\n",
       "1   2007-03-22\n",
       "2   2007-04-06\n",
       "3   2007-04-14\n",
       "4   2007-04-15\n",
       "Name: date_parsed, dtype: datetime64[ns]"
      ]
     },
     "execution_count": 49,
     "metadata": {},
     "output_type": "execute_result"
    }
   ],
   "source": [
    "landslides['date_parsed'].head()"
   ]
  },
  {
   "cell_type": "code",
   "execution_count": 50,
   "metadata": {
    "collapsed": true
   },
   "outputs": [],
   "source": [
    "day_of_month_landslides=landslides['date_parsed'].dt.day"
   ]
  },
  {
   "cell_type": "code",
   "execution_count": 51,
   "metadata": {},
   "outputs": [
    {
     "data": {
      "image/png": "[encoded data removed]",
      "text/plain": [
       "<matplotlib.figure.Figure at 0x18bf98aa908>"
      ]
     },
     "metadata": {},
     "output_type": "display_data"
    }
   ],
   "source": [
    "sns.distplot(day_of_month_landslides.dropna(),kde=False,bins=31)\n",
    "sns.plt.show()"
   ]
  },
  {
   "cell_type": "code",
   "execution_count": 52,
   "metadata": {},
   "outputs": [
    {
     "data": {
      "text/plain": [
       "0     01/02/1965\n",
       "1     01/04/1965\n",
       "2     01/05/1965\n",
       "3     01/08/1965\n",
       "4     01/09/1965\n",
       "5     01/10/1965\n",
       "6     01/12/1965\n",
       "7     01/15/1965\n",
       "8     01/16/1965\n",
       "9     01/17/1965\n",
       "10    01/17/1965\n",
       "11    01/24/1965\n",
       "12    01/29/1965\n",
       "13    02/01/1965\n",
       "14    02/02/1965\n",
       "15    02/04/1965\n",
       "16    02/04/1965\n",
       "17    02/04/1965\n",
       "18    02/04/1965\n",
       "19    02/04/1965\n",
       "Name: Date, dtype: object"
      ]
     },
     "execution_count": 52,
     "metadata": {},
     "output_type": "execute_result"
    }
   ],
   "source": [
    "earthquakes.Date.head(20)"
   ]
  },
  {
   "cell_type": "code",
   "execution_count": 53,
   "metadata": {},
   "outputs": [
    {
     "data": {
      "text/plain": [
       "3378     1975-02-23T02:58:41.000Z\n",
       "7512     1985-04-28T02:53:41.530Z\n",
       "20650    2011-03-13T02:23:34.520Z\n",
       "Name: Date, dtype: object"
      ]
     },
     "execution_count": 53,
     "metadata": {},
     "output_type": "execute_result"
    }
   ],
   "source": [
    "earthquakes.loc[earthquakes['Date'].apply(len)>10,'Date']"
   ]
  },
  {
   "cell_type": "code",
   "execution_count": 54,
   "metadata": {
    "collapsed": true
   },
   "outputs": [],
   "source": [
    "earthquakes['parsed_date']=pd.to_datetime(earthquakes['Date'],\\\n",
    "                                          infer_datetime_format=True)\n",
    "\n",
    "#some value has time, this method can be used here\n",
    "#time data '1975-02-23T02:58:41.000Z' does not match format '%m/%d/%Y' (match)"
   ]
  },
  {
   "cell_type": "code",
   "execution_count": 55,
   "metadata": {
    "scrolled": true
   },
   "outputs": [
    {
     "data": {
      "text/plain": [
       "3378    1975-02-23 02:58:41.000\n",
       "7512    1985-04-28 02:53:41.530\n",
       "20650   2011-03-13 02:23:34.520\n",
       "Name: parsed_date, dtype: datetime64[ns]"
      ]
     },
     "execution_count": 55,
     "metadata": {},
     "output_type": "execute_result"
    }
   ],
   "source": [
    "earthquakes.loc[earthquakes['Date'].apply(len)>10,'parsed_date']"
   ]
  },
  {
   "cell_type": "code",
   "execution_count": 56,
   "metadata": {
    "collapsed": true
   },
   "outputs": [],
   "source": [
    "#try this method, but the len>0 become NA, others are fine\n",
    "earthquakes['parsed_date']=pd.to_datetime(earthquakes['Date'],\\\n",
    "                                      format=\"%m/%d/%Y\",errors='coerce')"
   ]
  },
  {
   "cell_type": "code",
   "execution_count": 57,
   "metadata": {},
   "outputs": [
    {
     "data": {
      "text/plain": [
       "3378    NaT\n",
       "7512    NaT\n",
       "20650   NaT\n",
       "Name: parsed_date, dtype: datetime64[ns]"
      ]
     },
     "execution_count": 57,
     "metadata": {},
     "output_type": "execute_result"
    }
   ],
   "source": [
    "earthquakes.loc[earthquakes['Date'].apply(len)>10,'parsed_date']"
   ]
  },
  {
   "cell_type": "code",
   "execution_count": 58,
   "metadata": {},
   "outputs": [
    {
     "data": {
      "text/plain": [
       "0   1965-01-02\n",
       "1   1965-01-04\n",
       "2   1965-01-05\n",
       "3   1965-01-08\n",
       "4   1965-01-09\n",
       "Name: parsed_date, dtype: datetime64[ns]"
      ]
     },
     "execution_count": 58,
     "metadata": {},
     "output_type": "execute_result"
    }
   ],
   "source": [
    "earthquakes.parsed_date.head()"
   ]
  },
  {
   "cell_type": "code",
   "execution_count": 59,
   "metadata": {},
   "outputs": [
    {
     "data": {
      "text/plain": [
       "<matplotlib.axes._subplots.AxesSubplot at 0x18bf9354f60>"
      ]
     },
     "execution_count": 59,
     "metadata": {},
     "output_type": "execute_result"
    },
    {
     "data": {
      "image/png": "[encoded data removed]",
      "text/plain": [
       "<matplotlib.figure.Figure at 0x18bf98aa940>"
      ]
     },
     "metadata": {},
     "output_type": "display_data"
    }
   ],
   "source": [
    "day_earthquakes=earthquakes['parsed_date'].dt.day\n",
    "sns.distplot(day_earthquakes.dropna(),kde=False,bins=31)"
   ]
  },
  {
   "cell_type": "code",
   "execution_count": 60,
   "metadata": {},
   "outputs": [
    {
     "data": {
      "text/plain": [
       "Number                   int64\n",
       "Name                    object\n",
       "Country                 object\n",
       "Region                  object\n",
       "Type                    object\n",
       "Activity Evidence       object\n",
       "Last Known Eruption     object\n",
       "Latitude               float64\n",
       "Longitude              float64\n",
       "Elevation (Meters)       int64\n",
       "Dominant Rock Type      object\n",
       "Tectonic Setting        object\n",
       "dtype: object"
      ]
     },
     "execution_count": 60,
     "metadata": {},
     "output_type": "execute_result"
    }
   ],
   "source": [
    "volcanic.dtypes"
   ]
  },
  {
   "cell_type": "code",
   "execution_count": 61,
   "metadata": {
    "scrolled": true
   },
   "outputs": [
    {
     "data": {
      "text/plain": [
       "0    8300 BCE\n",
       "1    4040 BCE\n",
       "2     Unknown\n",
       "3    3600 BCE\n",
       "4     1282 CE\n",
       "Name: Last Known Eruption, dtype: object"
      ]
     },
     "execution_count": 61,
     "metadata": {},
     "output_type": "execute_result"
    }
   ],
   "source": [
    "volcanic['Last Known Eruption'].head() "
   ]
  },
  {
   "cell_type": "code",
   "execution_count": 62,
   "metadata": {
    "collapsed": true
   },
   "outputs": [],
   "source": [
    "def change_to_date(i):\n",
    "    if i[-3:]=='BCE':\n",
    "        year=[int(s) for s in i.split() if s.isdigit()]\n",
    "        return int(''.join(str(x) for x in year))*-1\n",
    "    elif i[-3:]==' CE':\n",
    "        year=[int(s) for s in i.split() if s.isdigit()]\n",
    "        return ''.join(str(x) for x in year)\n",
    "    elif i=='Unknown':\n",
    "        return np.NaN"
   ]
  },
  {
   "cell_type": "code",
   "execution_count": 63,
   "metadata": {},
   "outputs": [
    {
     "data": {
      "text/plain": [
       "0    -8300\n",
       "1    -4040\n",
       "2      NaN\n",
       "3    -3600\n",
       "4     1282\n",
       "Name: Last Known Eruption, dtype: object"
      ]
     },
     "execution_count": 63,
     "metadata": {},
     "output_type": "execute_result"
    }
   ],
   "source": [
    "a=volcanic['Last Known Eruption'].apply(lambda x: change_to_date(x))\n",
    "a.head()"
   ]
  },
  {
   "cell_type": "markdown",
   "metadata": {},
   "source": [
    "# Time Series Plotting"
   ]
  },
  {
   "cell_type": "code",
   "execution_count": 64,
   "metadata": {
    "collapsed": true
   },
   "outputs": [],
   "source": [
    "shelter=pd.read_csv(\"C:\\\\Users\\\\cxz16\\\\kaggle 5-day challenge\\\\day3data\\\\aac_shelter_cat_outcome_eng.csv\")\n",
    "prices=pd.read_csv(\"C:\\\\Users\\\\cxz16\\\\kaggle 5-day challenge\\\\day3data\\\\prices.csv\")"
   ]
  },
  {
   "cell_type": "code",
   "execution_count": 65,
   "metadata": {},
   "outputs": [
    {
     "data": {
      "text/plain": [
       "date       object\n",
       "symbol     object\n",
       "open      float64\n",
       "close     float64\n",
       "low       float64\n",
       "high      float64\n",
       "volume    float64\n",
       "dtype: object"
      ]
     },
     "execution_count": 65,
     "metadata": {},
     "output_type": "execute_result"
    }
   ],
   "source": [
    "prices.dtypes"
   ]
  },
  {
   "cell_type": "code",
   "execution_count": 66,
   "metadata": {},
   "outputs": [
    {
     "data": {
      "text/html": [
       "<div>\n",
       "<style>\n",
       "    .dataframe thead tr:only-child th {\n",
       "        text-align: right;\n",
       "    }\n",
       "\n",
       "    .dataframe thead th {\n",
       "        text-align: left;\n",
       "    }\n",
       "\n",
       "    .dataframe tbody tr th {\n",
       "        vertical-align: top;\n",
       "    }\n",
       "</style>\n",
       "<table border=\"1\" class=\"dataframe\">\n",
       "  <thead>\n",
       "    <tr style=\"text-align: right;\">\n",
       "      <th></th>\n",
       "      <th>date</th>\n",
       "      <th>symbol</th>\n",
       "      <th>open</th>\n",
       "      <th>close</th>\n",
       "      <th>low</th>\n",
       "      <th>high</th>\n",
       "      <th>volume</th>\n",
       "    </tr>\n",
       "  </thead>\n",
       "  <tbody>\n",
       "    <tr>\n",
       "      <th>0</th>\n",
       "      <td>2016-01-05 00:00:00</td>\n",
       "      <td>WLTW</td>\n",
       "      <td>123.430000</td>\n",
       "      <td>125.839996</td>\n",
       "      <td>122.309998</td>\n",
       "      <td>126.250000</td>\n",
       "      <td>2163600.0</td>\n",
       "    </tr>\n",
       "    <tr>\n",
       "      <th>1</th>\n",
       "      <td>2016-01-06 00:00:00</td>\n",
       "      <td>WLTW</td>\n",
       "      <td>125.239998</td>\n",
       "      <td>119.980003</td>\n",
       "      <td>119.940002</td>\n",
       "      <td>125.540001</td>\n",
       "      <td>2386400.0</td>\n",
       "    </tr>\n",
       "    <tr>\n",
       "      <th>2</th>\n",
       "      <td>2016-01-07 00:00:00</td>\n",
       "      <td>WLTW</td>\n",
       "      <td>116.379997</td>\n",
       "      <td>114.949997</td>\n",
       "      <td>114.930000</td>\n",
       "      <td>119.739998</td>\n",
       "      <td>2489500.0</td>\n",
       "    </tr>\n",
       "    <tr>\n",
       "      <th>3</th>\n",
       "      <td>2016-01-08 00:00:00</td>\n",
       "      <td>WLTW</td>\n",
       "      <td>115.480003</td>\n",
       "      <td>116.620003</td>\n",
       "      <td>113.500000</td>\n",
       "      <td>117.440002</td>\n",
       "      <td>2006300.0</td>\n",
       "    </tr>\n",
       "    <tr>\n",
       "      <th>4</th>\n",
       "      <td>2016-01-11 00:00:00</td>\n",
       "      <td>WLTW</td>\n",
       "      <td>117.010002</td>\n",
       "      <td>114.970001</td>\n",
       "      <td>114.089996</td>\n",
       "      <td>117.330002</td>\n",
       "      <td>1408600.0</td>\n",
       "    </tr>\n",
       "  </tbody>\n",
       "</table>\n",
       "</div>"
      ],
      "text/plain": [
       "                  date symbol        open       close         low        high  \\\n",
       "0  2016-01-05 00:00:00   WLTW  123.430000  125.839996  122.309998  126.250000   \n",
       "1  2016-01-06 00:00:00   WLTW  125.239998  119.980003  119.940002  125.540001   \n",
       "2  2016-01-07 00:00:00   WLTW  116.379997  114.949997  114.930000  119.739998   \n",
       "3  2016-01-08 00:00:00   WLTW  115.480003  116.620003  113.500000  117.440002   \n",
       "4  2016-01-11 00:00:00   WLTW  117.010002  114.970001  114.089996  117.330002   \n",
       "\n",
       "      volume  \n",
       "0  2163600.0  \n",
       "1  2386400.0  \n",
       "2  2489500.0  \n",
       "3  2006300.0  \n",
       "4  1408600.0  "
      ]
     },
     "execution_count": 66,
     "metadata": {},
     "output_type": "execute_result"
    }
   ],
   "source": [
    "prices.head() #strongly show time series by 'date'"
   ]
  },
  {
   "cell_type": "code",
   "execution_count": 67,
   "metadata": {},
   "outputs": [
    {
     "data": {
      "text/plain": [
       "0   2016-01-05\n",
       "1   2016-01-06\n",
       "2   2016-01-07\n",
       "3   2016-01-08\n",
       "4   2016-01-11\n",
       "Name: date, dtype: datetime64[ns]"
      ]
     },
     "execution_count": 67,
     "metadata": {},
     "output_type": "execute_result"
    }
   ],
   "source": [
    "prices['date']=pd.to_datetime(prices['date'])\n",
    "prices['date'].head()"
   ]
  },
  {
   "cell_type": "code",
   "execution_count": 68,
   "metadata": {},
   "outputs": [
    {
     "data": {
      "text/html": [
       "<div>\n",
       "<style>\n",
       "    .dataframe thead tr:only-child th {\n",
       "        text-align: right;\n",
       "    }\n",
       "\n",
       "    .dataframe thead th {\n",
       "        text-align: left;\n",
       "    }\n",
       "\n",
       "    .dataframe tbody tr th {\n",
       "        vertical-align: top;\n",
       "    }\n",
       "</style>\n",
       "<table border=\"1\" class=\"dataframe\">\n",
       "  <thead>\n",
       "    <tr style=\"text-align: right;\">\n",
       "      <th></th>\n",
       "      <th>age_upon_outcome</th>\n",
       "      <th>animal_id</th>\n",
       "      <th>animal_type</th>\n",
       "      <th>breed</th>\n",
       "      <th>color</th>\n",
       "      <th>date_of_birth</th>\n",
       "      <th>datetime</th>\n",
       "      <th>monthyear</th>\n",
       "      <th>name</th>\n",
       "      <th>outcome_subtype</th>\n",
       "      <th>...</th>\n",
       "      <th>outcome_weekday</th>\n",
       "      <th>outcome_hour</th>\n",
       "      <th>breed1</th>\n",
       "      <th>breed2</th>\n",
       "      <th>cfa_breed</th>\n",
       "      <th>domestic_breed</th>\n",
       "      <th>coat_pattern</th>\n",
       "      <th>color1</th>\n",
       "      <th>color2</th>\n",
       "      <th>coat</th>\n",
       "    </tr>\n",
       "  </thead>\n",
       "  <tbody>\n",
       "    <tr>\n",
       "      <th>0</th>\n",
       "      <td>2 weeks</td>\n",
       "      <td>A684346</td>\n",
       "      <td>Cat</td>\n",
       "      <td>domestic shorthair</td>\n",
       "      <td>orange</td>\n",
       "      <td>2014-07-07 00:00:00</td>\n",
       "      <td>2014-07-22 16:04:00</td>\n",
       "      <td>2014-07-22T16:04:00</td>\n",
       "      <td>NaN</td>\n",
       "      <td>Partner</td>\n",
       "      <td>...</td>\n",
       "      <td>Tuesday</td>\n",
       "      <td>16</td>\n",
       "      <td>domestic shorthair</td>\n",
       "      <td>NaN</td>\n",
       "      <td>False</td>\n",
       "      <td>True</td>\n",
       "      <td>tabby</td>\n",
       "      <td>orange</td>\n",
       "      <td>NaN</td>\n",
       "      <td>orange</td>\n",
       "    </tr>\n",
       "    <tr>\n",
       "      <th>1</th>\n",
       "      <td>1 month</td>\n",
       "      <td>A685067</td>\n",
       "      <td>Cat</td>\n",
       "      <td>domestic shorthair</td>\n",
       "      <td>blue /white</td>\n",
       "      <td>2014-06-16 00:00:00</td>\n",
       "      <td>2014-08-14 18:45:00</td>\n",
       "      <td>2014-08-14T18:45:00</td>\n",
       "      <td>Lucy</td>\n",
       "      <td>NaN</td>\n",
       "      <td>...</td>\n",
       "      <td>Thursday</td>\n",
       "      <td>18</td>\n",
       "      <td>domestic shorthair</td>\n",
       "      <td>NaN</td>\n",
       "      <td>False</td>\n",
       "      <td>True</td>\n",
       "      <td>tabby</td>\n",
       "      <td>blue</td>\n",
       "      <td>white</td>\n",
       "      <td>blue</td>\n",
       "    </tr>\n",
       "    <tr>\n",
       "      <th>2</th>\n",
       "      <td>3 months</td>\n",
       "      <td>A678580</td>\n",
       "      <td>Cat</td>\n",
       "      <td>domestic shorthair</td>\n",
       "      <td>white/black</td>\n",
       "      <td>2014-03-26 00:00:00</td>\n",
       "      <td>2014-06-29 17:45:00</td>\n",
       "      <td>2014-06-29T17:45:00</td>\n",
       "      <td>*Frida</td>\n",
       "      <td>Offsite</td>\n",
       "      <td>...</td>\n",
       "      <td>Sunday</td>\n",
       "      <td>17</td>\n",
       "      <td>domestic shorthair</td>\n",
       "      <td>NaN</td>\n",
       "      <td>False</td>\n",
       "      <td>True</td>\n",
       "      <td>NaN</td>\n",
       "      <td>white</td>\n",
       "      <td>black</td>\n",
       "      <td>white</td>\n",
       "    </tr>\n",
       "    <tr>\n",
       "      <th>3</th>\n",
       "      <td>1 year</td>\n",
       "      <td>A675405</td>\n",
       "      <td>Cat</td>\n",
       "      <td>domestic mediumhair</td>\n",
       "      <td>black/white</td>\n",
       "      <td>2013-03-27 00:00:00</td>\n",
       "      <td>2014-03-28 14:55:00</td>\n",
       "      <td>2014-03-28T14:55:00</td>\n",
       "      <td>Stella Luna</td>\n",
       "      <td>NaN</td>\n",
       "      <td>...</td>\n",
       "      <td>Friday</td>\n",
       "      <td>14</td>\n",
       "      <td>domestic mediumhair</td>\n",
       "      <td>NaN</td>\n",
       "      <td>False</td>\n",
       "      <td>True</td>\n",
       "      <td>NaN</td>\n",
       "      <td>black</td>\n",
       "      <td>white</td>\n",
       "      <td>black</td>\n",
       "    </tr>\n",
       "    <tr>\n",
       "      <th>4</th>\n",
       "      <td>3 weeks</td>\n",
       "      <td>A670420</td>\n",
       "      <td>Cat</td>\n",
       "      <td>domestic shorthair</td>\n",
       "      <td>black/white</td>\n",
       "      <td>2013-12-16 00:00:00</td>\n",
       "      <td>2014-01-09 19:29:00</td>\n",
       "      <td>2014-01-09T19:29:00</td>\n",
       "      <td>NaN</td>\n",
       "      <td>Partner</td>\n",
       "      <td>...</td>\n",
       "      <td>Thursday</td>\n",
       "      <td>19</td>\n",
       "      <td>domestic shorthair</td>\n",
       "      <td>NaN</td>\n",
       "      <td>False</td>\n",
       "      <td>True</td>\n",
       "      <td>NaN</td>\n",
       "      <td>black</td>\n",
       "      <td>white</td>\n",
       "      <td>black</td>\n",
       "    </tr>\n",
       "  </tbody>\n",
       "</table>\n",
       "<p>5 rows × 37 columns</p>\n",
       "</div>"
      ],
      "text/plain": [
       "  age_upon_outcome animal_id animal_type                breed        color  \\\n",
       "0          2 weeks   A684346         Cat   domestic shorthair       orange   \n",
       "1          1 month   A685067         Cat   domestic shorthair  blue /white   \n",
       "2         3 months   A678580         Cat   domestic shorthair  white/black   \n",
       "3           1 year   A675405         Cat  domestic mediumhair  black/white   \n",
       "4          3 weeks   A670420         Cat   domestic shorthair  black/white   \n",
       "\n",
       "         date_of_birth             datetime            monthyear         name  \\\n",
       "0  2014-07-07 00:00:00  2014-07-22 16:04:00  2014-07-22T16:04:00          NaN   \n",
       "1  2014-06-16 00:00:00  2014-08-14 18:45:00  2014-08-14T18:45:00         Lucy   \n",
       "2  2014-03-26 00:00:00  2014-06-29 17:45:00  2014-06-29T17:45:00       *Frida   \n",
       "3  2013-03-27 00:00:00  2014-03-28 14:55:00  2014-03-28T14:55:00  Stella Luna   \n",
       "4  2013-12-16 00:00:00  2014-01-09 19:29:00  2014-01-09T19:29:00          NaN   \n",
       "\n",
       "  outcome_subtype   ...   outcome_weekday outcome_hour               breed1  \\\n",
       "0         Partner   ...           Tuesday           16   domestic shorthair   \n",
       "1             NaN   ...          Thursday           18   domestic shorthair   \n",
       "2         Offsite   ...            Sunday           17   domestic shorthair   \n",
       "3             NaN   ...            Friday           14  domestic mediumhair   \n",
       "4         Partner   ...          Thursday           19   domestic shorthair   \n",
       "\n",
       "  breed2 cfa_breed  domestic_breed  coat_pattern  color1  color2    coat  \n",
       "0    NaN     False            True         tabby  orange     NaN  orange  \n",
       "1    NaN     False            True         tabby   blue    white   blue   \n",
       "2    NaN     False            True           NaN   white   black   white  \n",
       "3    NaN     False            True           NaN   black   white   black  \n",
       "4    NaN     False            True           NaN   black   white   black  \n",
       "\n",
       "[5 rows x 37 columns]"
      ]
     },
     "execution_count": 68,
     "metadata": {},
     "output_type": "execute_result"
    }
   ],
   "source": [
    "shelter.head()"
   ]
  },
  {
   "cell_type": "code",
   "execution_count": 69,
   "metadata": {},
   "outputs": [
    {
     "data": {
      "text/plain": [
       "0   2014-07-07\n",
       "1   2014-06-16\n",
       "2   2014-03-26\n",
       "3   2013-03-27\n",
       "4   2013-12-16\n",
       "Name: date_of_birth, dtype: datetime64[ns]"
      ]
     },
     "execution_count": 69,
     "metadata": {},
     "output_type": "execute_result"
    }
   ],
   "source": [
    "shelter['date_of_birth']=pd.to_datetime(shelter['date_of_birth'])\n",
    "shelter['date_of_birth'].head()"
   ]
  },
  {
   "cell_type": "code",
   "execution_count": 70,
   "metadata": {},
   "outputs": [
    {
     "data": {
      "text/plain": [
       "0   2014-07-22 16:04:00\n",
       "1   2014-08-14 18:45:00\n",
       "2   2014-06-29 17:45:00\n",
       "3   2014-03-28 14:55:00\n",
       "4   2014-01-09 19:29:00\n",
       "Name: datetime, dtype: datetime64[ns]"
      ]
     },
     "execution_count": 70,
     "metadata": {},
     "output_type": "execute_result"
    }
   ],
   "source": [
    "shelter['datetime']=pd.to_datetime(shelter['datetime'])\n",
    "shelter['datetime'].head()"
   ]
  },
  {
   "cell_type": "code",
   "execution_count": 71,
   "metadata": {},
   "outputs": [
    {
     "data": {
      "text/plain": [
       "<matplotlib.axes._subplots.AxesSubplot at 0x18bf8c507f0>"
      ]
     },
     "execution_count": 71,
     "metadata": {},
     "output_type": "execute_result"
    },
    {
     "data": {
      "image/png": "[encoded data removed]",
      "text/plain": [
       "<matplotlib.figure.Figure at 0x18bf96ee9b0>"
      ]
     },
     "metadata": {},
     "output_type": "display_data"
    }
   ],
   "source": [
    "shelter['date_of_birth'].value_counts().plot()"
   ]
  },
  {
   "cell_type": "code",
   "execution_count": 72,
   "metadata": {},
   "outputs": [
    {
     "data": {
      "text/plain": [
       "<matplotlib.axes._subplots.AxesSubplot at 0x18b800134a8>"
      ]
     },
     "execution_count": 72,
     "metadata": {},
     "output_type": "execute_result"
    },
    {
     "data": {
      "image/png": "[encoded data removed]",
      "text/plain": [
       "<matplotlib.figure.Figure at 0x18bf93bc198>"
      ]
     },
     "metadata": {},
     "output_type": "display_data"
    }
   ],
   "source": [
    "shelter['date_of_birth'].dt.year.value_counts().sort_index(axis=0).plot.line()"
   ]
  },
  {
   "cell_type": "code",
   "execution_count": 73,
   "metadata": {},
   "outputs": [
    {
     "data": {
      "text/plain": [
       "date      datetime64[ns]\n",
       "symbol            object\n",
       "open             float64\n",
       "close            float64\n",
       "low              float64\n",
       "high             float64\n",
       "volume           float64\n",
       "dtype: object"
      ]
     },
     "execution_count": 73,
     "metadata": {},
     "output_type": "execute_result"
    }
   ],
   "source": [
    "prices.dtypes"
   ]
  },
  {
   "cell_type": "code",
   "execution_count": 74,
   "metadata": {},
   "outputs": [
    {
     "data": {
      "text/plain": [
       "<matplotlib.axes._subplots.AxesSubplot at 0x18b801239e8>"
      ]
     },
     "execution_count": 74,
     "metadata": {},
     "output_type": "execute_result"
    },
    {
     "data": {
      "image/png": "[encoded data removed]",
      "text/plain": [
       "<matplotlib.figure.Figure at 0x18b800a5390>"
      ]
     },
     "metadata": {},
     "output_type": "display_data"
    }
   ],
   "source": [
    "prices['volume'].groupby(prices['date'].dt.year).mean().plot.bar()"
   ]
  },
  {
   "cell_type": "code",
   "execution_count": 75,
   "metadata": {},
   "outputs": [
    {
     "data": {
      "text/plain": [
       "<matplotlib.axes._subplots.AxesSubplot at 0x18b801bd6a0>"
      ]
     },
     "execution_count": 75,
     "metadata": {},
     "output_type": "execute_result"
    },
    {
     "data": {
      "image/png": "[encoded data removed]",
      "text/plain": [
       "<matplotlib.figure.Figure at 0x18b800d0cc0>"
      ]
     },
     "metadata": {},
     "output_type": "display_data"
    }
   ],
   "source": [
    "from pandas.plotting import lag_plot\n",
    "lag_plot(prices['volume'].sample(250))"
   ]
  }
 ],
 "metadata": {
  "kernelspec": {
   "display_name": "Python 3",
   "language": "python",
   "name": "python3"
  },
  "language_info": {
   "codemirror_mode": {
    "name": "ipython",
    "version": 3
   },
   "file_extension": ".py",
   "mimetype": "text/x-python",
   "name": "python",
   "nbconvert_exporter": "python",
   "pygments_lexer": "ipython3",
   "version": "3.6.1"
  }
 },
 "nbformat": 4,
 "nbformat_minor": 2
}
